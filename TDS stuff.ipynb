{
 "metadata": {
  "name": "",
  "signature": "sha256:7763a58f6c9870082bfe22d66e0334e68b7350c20b5681a64e435476caf2b445"
 },
 "nbformat": 3,
 "nbformat_minor": 0,
 "worksheets": [
  {
   "cells": [
    {
     "cell_type": "heading",
     "level": 1,
     "metadata": {},
     "source": [
      "Playing with Tds Class"
     ]
    },
    {
     "cell_type": "code",
     "collapsed": false,
     "input": [
      "from tds import Tds\n",
      "import time\n",
      "tds = Tds(\"COM1\", .5)"
     ],
     "language": "python",
     "metadata": {},
     "outputs": [],
     "prompt_number": 1
    },
    {
     "cell_type": "code",
     "collapsed": false,
     "input": [
      "start = time.time()\n",
      "tds.makeReady()\n",
      "tds.trigger()\n",
      "print(time.time() - start)"
     ],
     "language": "python",
     "metadata": {},
     "outputs": [
      {
       "output_type": "stream",
       "stream": "stdout",
       "text": [
        "0.0169999599457\n"
       ]
      }
     ],
     "prompt_number": 2
    },
    {
     "cell_type": "code",
     "collapsed": false,
     "input": [
      "start = time.time()\n",
      "tds.setSecDiv(\"1\")\n",
      "print(time.time() - start)"
     ],
     "language": "python",
     "metadata": {},
     "outputs": [
      {
       "output_type": "stream",
       "stream": "stdout",
       "text": [
        "0.00200009346008\n"
       ]
      }
     ],
     "prompt_number": 3
    },
    {
     "cell_type": "code",
     "collapsed": false,
     "input": [
      "start = time.time()\n",
      "tds.makeReady()\n",
      "tds.trigger()\n",
      "time.sleep(1)\n",
      "while True:\n",
      "    if tds.getState() == \"save\":\n",
      "        break\n",
      "    else:\n",
      "        time.sleep(.1)\n",
      "time_elapsed = time.time() - start\n",
      "print(time_elapsed)"
     ],
     "language": "python",
     "metadata": {},
     "outputs": [
      {
       "output_type": "stream",
       "stream": "stdout",
       "text": [
        "10.2220001221\n"
       ]
      }
     ],
     "prompt_number": 6
    },
    {
     "cell_type": "markdown",
     "metadata": {},
     "source": [
      "Should be 10 seconds."
     ]
    },
    {
     "cell_type": "heading",
     "level": 4,
     "metadata": {},
     "source": [
      "How long does it take to transfer the waveform?"
     ]
    },
    {
     "cell_type": "code",
     "collapsed": false,
     "input": [
      "start = time.time()\n",
      "waveform1 = tds.getWaveform(\"CH1\", samples=2500)\n",
      "waveform2 = tds.getWaveform(\"CH2\", samples=2500)\n",
      "print(time.time() - start)"
     ],
     "language": "python",
     "metadata": {},
     "outputs": [
      {
       "output_type": "stream",
       "stream": "stdout",
       "text": [
        "10.8259999752\n"
       ]
      }
     ],
     "prompt_number": 3
    },
    {
     "cell_type": "code",
     "collapsed": false,
     "input": [
      "tds.osc.send_query(\"RS232\")"
     ],
     "language": "python",
     "metadata": {},
     "outputs": [
      {
       "metadata": {},
       "output_type": "pyout",
       "prompt_number": 2,
       "text": [
        "'9600;1;0;NONE;LF'"
       ]
      }
     ],
     "prompt_number": 2
    },
    {
     "cell_type": "code",
     "collapsed": false,
     "input": [
      "print(len(waveform1))\n",
      "print(len(waveform2))"
     ],
     "language": "python",
     "metadata": {},
     "outputs": [
      {
       "output_type": "stream",
       "stream": "stdout",
       "text": [
        "2500\n",
        "2500\n"
       ]
      }
     ],
     "prompt_number": 4
    },
    {
     "cell_type": "code",
     "collapsed": false,
     "input": [
      "tds.osc.close()"
     ],
     "language": "python",
     "metadata": {},
     "outputs": [],
     "prompt_number": 17
    },
    {
     "cell_type": "heading",
     "level": 1,
     "metadata": {},
     "source": [
      "Some Zaber timing tests"
     ]
    },
    {
     "cell_type": "code",
     "collapsed": false,
     "input": [
      "from zaber import Zaber\n",
      "zaber = Zaber(2)"
     ],
     "language": "python",
     "metadata": {},
     "outputs": [],
     "prompt_number": 9
    },
    {
     "cell_type": "code",
     "collapsed": false,
     "input": [
      "start = time.time()\n",
      "zaber.move(\"ver\", \"moveRelative\", 20)\n",
      "elapsed = time.time() - start\n",
      "print(elapsed)"
     ],
     "language": "python",
     "metadata": {},
     "outputs": [
      {
       "output_type": "stream",
       "stream": "stdout",
       "text": [
        "0.00200009346008\n"
       ]
      }
     ],
     "prompt_number": 13
    },
    {
     "cell_type": "markdown",
     "metadata": {},
     "source": [
      "sending a command to the zaber stage takes only 1 or 2 milliseconds"
     ]
    },
    {
     "cell_type": "code",
     "collapsed": false,
     "input": [],
     "language": "python",
     "metadata": {},
     "outputs": []
    }
   ],
   "metadata": {}
  }
 ]
}